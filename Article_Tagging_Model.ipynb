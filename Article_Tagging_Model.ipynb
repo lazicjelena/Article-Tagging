{
  "cells": [
    {
      "cell_type": "code",
      "execution_count": null,
      "metadata": {
        "id": "yQWdVmvt9jGN",
        "colab": {
          "base_uri": "https://localhost:8080/"
        },
        "outputId": "7b9438fc-f95c-4513-fbeb-41ea336ca56b"
      },
      "outputs": [
        {
          "output_type": "stream",
          "name": "stderr",
          "text": [
            "[nltk_data] Downloading package punkt to /root/nltk_data...\n",
            "[nltk_data]   Package punkt is already up-to-date!\n",
            "[nltk_data] Downloading package stopwords to /root/nltk_data...\n",
            "[nltk_data]   Package stopwords is already up-to-date!\n"
          ]
        }
      ],
      "source": [
        "import tensorflow as tf\n",
        "import matplotlib.pyplot as plt\n",
        "import pandas as pd\n",
        "import numpy as np\n",
        "import re\n",
        "\n",
        "import string   \n",
        "from nltk.stem import PorterStemmer    \n",
        "import nltk\n",
        "from nltk.stem.snowball import SnowballStemmer\n",
        "from nltk.tokenize import word_tokenize\n",
        "from nltk.corpus import stopwords\n",
        "\n",
        "nltk.download('punkt')\n",
        "nltk.download('stopwords')\n",
        "\n",
        "from gensim.models import Word2Vec\n",
        "\n",
        "from keras.callbacks import EarlyStopping\n",
        "\n",
        "from sklearn.metrics import confusion_matrix\n",
        "from sklearn import preprocessing\n",
        "\n",
        "from tensorflow.keras.preprocessing.text import Tokenizer\n",
        "from tensorflow.keras.preprocessing.sequence import pad_sequences"
      ]
    },
    {
      "cell_type": "markdown",
      "metadata": {
        "id": "-hgTPf_ruqou"
      },
      "source": [
        "\n",
        "**Multi label binarization**"
      ]
    },
    {
      "cell_type": "code",
      "execution_count": null,
      "metadata": {
        "id": "LDtskN-OyAuL"
      },
      "outputs": [],
      "source": [
        "train_df = pd.read_csv('/content/train_df.csv')\n",
        "test_df = pd.read_csv('/content/test_df.csv')\n",
        "validation_df = pd.read_csv('/content/val_df.csv')"
      ]
    },
    {
      "cell_type": "code",
      "source": [
        "def split_tags(train_df):\n",
        "\n",
        "  tags = []\n",
        "  for i in range(0, len(train_df)):\n",
        "    train_df.at[i, 'tags'] = re.sub(\"[^\\w]\", \" \", train_df.at[i, 'tags']).split()\n",
        "    tags += train_df.at[i,'tags']\n",
        "\n",
        "  return train_df"
      ],
      "metadata": {
        "id": "xuYGAdls5_dZ"
      },
      "execution_count": null,
      "outputs": []
    },
    {
      "cell_type": "code",
      "source": [
        "test_df = split_tags(test_df)"
      ],
      "metadata": {
        "id": "MwlHCBy4_Q7p"
      },
      "execution_count": null,
      "outputs": []
    },
    {
      "cell_type": "code",
      "source": [
        "train_df = split_tags(train_df)\n",
        "validation = split_tags(validation_df)"
      ],
      "metadata": {
        "id": "UuW8ZhhVxis1"
      },
      "execution_count": null,
      "outputs": []
    },
    {
      "cell_type": "code",
      "execution_count": null,
      "metadata": {
        "colab": {
          "base_uri": "https://localhost:8080/",
          "height": 424
        },
        "id": "g14vM1zflwTO",
        "outputId": "67cd4cf4-3508-4f57-abba-91d2a64a679a"
      },
      "outputs": [
        {
          "output_type": "execute_result",
          "data": {
            "text/plain": [
              "                                                     text  \\\n",
              "0       Des milliers de Philippins fuyaient dimanche l...   \n",
              "1       Il n'a fallu que 66 minutes à Roger Federer (A...   \n",
              "2       Die UN-Menschenrechts-Charta sowie die meisten...   \n",
              "3       Le plan de restructuration de Lundbeck, annonc...   \n",
              "4       Le Sacré-Coeur à Plainpalais, Sainte-Pétronill...   \n",
              "...                                                   ...   \n",
              "129058  Geoge Bush stammt nicht aus Texas. Präsident d...   \n",
              "129059  Die US-Schauspielerin Joan Leslie, die mit Sta...   \n",
              "129060  Environ 1100 migrants ont été secourus dans le...   \n",
              "129061  Le taux pivot est passé à 6,3306 yuans pour un...   \n",
              "129062  Wer sagt, Gummitwist sei nur etwas für Mädchen...   \n",
              "\n",
              "                                              tags  \n",
              "0          [Philippines, News, Monde, Intempéries]  \n",
              "1                                               []  \n",
              "2                   [Schweiz, News, Panorama, UNK]  \n",
              "3                                               []  \n",
              "4                                               []  \n",
              "...                                            ...  \n",
              "129058      [London, News, Klamauk, Kurioses, UNK]  \n",
              "129059            [USA, News, Kunst, Kultur, Film]  \n",
              "129060                     [UNK, News, Monde, UNK]  \n",
              "129061                     [News, Chine, Economie]  \n",
              "129062  [Stadt, Zürich, Video, Entertainment, UNK]  \n",
              "\n",
              "[129063 rows x 2 columns]"
            ],
            "text/html": [
              "\n",
              "  <div id=\"df-325e878c-3f1a-4321-85b4-83331d37803f\">\n",
              "    <div class=\"colab-df-container\">\n",
              "      <div>\n",
              "<style scoped>\n",
              "    .dataframe tbody tr th:only-of-type {\n",
              "        vertical-align: middle;\n",
              "    }\n",
              "\n",
              "    .dataframe tbody tr th {\n",
              "        vertical-align: top;\n",
              "    }\n",
              "\n",
              "    .dataframe thead th {\n",
              "        text-align: right;\n",
              "    }\n",
              "</style>\n",
              "<table border=\"1\" class=\"dataframe\">\n",
              "  <thead>\n",
              "    <tr style=\"text-align: right;\">\n",
              "      <th></th>\n",
              "      <th>text</th>\n",
              "      <th>tags</th>\n",
              "    </tr>\n",
              "  </thead>\n",
              "  <tbody>\n",
              "    <tr>\n",
              "      <th>0</th>\n",
              "      <td>Des milliers de Philippins fuyaient dimanche l...</td>\n",
              "      <td>[Philippines, News, Monde, Intempéries]</td>\n",
              "    </tr>\n",
              "    <tr>\n",
              "      <th>1</th>\n",
              "      <td>Il n'a fallu que 66 minutes à Roger Federer (A...</td>\n",
              "      <td>[]</td>\n",
              "    </tr>\n",
              "    <tr>\n",
              "      <th>2</th>\n",
              "      <td>Die UN-Menschenrechts-Charta sowie die meisten...</td>\n",
              "      <td>[Schweiz, News, Panorama, UNK]</td>\n",
              "    </tr>\n",
              "    <tr>\n",
              "      <th>3</th>\n",
              "      <td>Le plan de restructuration de Lundbeck, annonc...</td>\n",
              "      <td>[]</td>\n",
              "    </tr>\n",
              "    <tr>\n",
              "      <th>4</th>\n",
              "      <td>Le Sacré-Coeur à Plainpalais, Sainte-Pétronill...</td>\n",
              "      <td>[]</td>\n",
              "    </tr>\n",
              "    <tr>\n",
              "      <th>...</th>\n",
              "      <td>...</td>\n",
              "      <td>...</td>\n",
              "    </tr>\n",
              "    <tr>\n",
              "      <th>129058</th>\n",
              "      <td>Geoge Bush stammt nicht aus Texas. Präsident d...</td>\n",
              "      <td>[London, News, Klamauk, Kurioses, UNK]</td>\n",
              "    </tr>\n",
              "    <tr>\n",
              "      <th>129059</th>\n",
              "      <td>Die US-Schauspielerin Joan Leslie, die mit Sta...</td>\n",
              "      <td>[USA, News, Kunst, Kultur, Film]</td>\n",
              "    </tr>\n",
              "    <tr>\n",
              "      <th>129060</th>\n",
              "      <td>Environ 1100 migrants ont été secourus dans le...</td>\n",
              "      <td>[UNK, News, Monde, UNK]</td>\n",
              "    </tr>\n",
              "    <tr>\n",
              "      <th>129061</th>\n",
              "      <td>Le taux pivot est passé à 6,3306 yuans pour un...</td>\n",
              "      <td>[News, Chine, Economie]</td>\n",
              "    </tr>\n",
              "    <tr>\n",
              "      <th>129062</th>\n",
              "      <td>Wer sagt, Gummitwist sei nur etwas für Mädchen...</td>\n",
              "      <td>[Stadt, Zürich, Video, Entertainment, UNK]</td>\n",
              "    </tr>\n",
              "  </tbody>\n",
              "</table>\n",
              "<p>129063 rows × 2 columns</p>\n",
              "</div>\n",
              "      <button class=\"colab-df-convert\" onclick=\"convertToInteractive('df-325e878c-3f1a-4321-85b4-83331d37803f')\"\n",
              "              title=\"Convert this dataframe to an interactive table.\"\n",
              "              style=\"display:none;\">\n",
              "        \n",
              "  <svg xmlns=\"http://www.w3.org/2000/svg\" height=\"24px\"viewBox=\"0 0 24 24\"\n",
              "       width=\"24px\">\n",
              "    <path d=\"M0 0h24v24H0V0z\" fill=\"none\"/>\n",
              "    <path d=\"M18.56 5.44l.94 2.06.94-2.06 2.06-.94-2.06-.94-.94-2.06-.94 2.06-2.06.94zm-11 1L8.5 8.5l.94-2.06 2.06-.94-2.06-.94L8.5 2.5l-.94 2.06-2.06.94zm10 10l.94 2.06.94-2.06 2.06-.94-2.06-.94-.94-2.06-.94 2.06-2.06.94z\"/><path d=\"M17.41 7.96l-1.37-1.37c-.4-.4-.92-.59-1.43-.59-.52 0-1.04.2-1.43.59L10.3 9.45l-7.72 7.72c-.78.78-.78 2.05 0 2.83L4 21.41c.39.39.9.59 1.41.59.51 0 1.02-.2 1.41-.59l7.78-7.78 2.81-2.81c.8-.78.8-2.07 0-2.86zM5.41 20L4 18.59l7.72-7.72 1.47 1.35L5.41 20z\"/>\n",
              "  </svg>\n",
              "      </button>\n",
              "      \n",
              "  <style>\n",
              "    .colab-df-container {\n",
              "      display:flex;\n",
              "      flex-wrap:wrap;\n",
              "      gap: 12px;\n",
              "    }\n",
              "\n",
              "    .colab-df-convert {\n",
              "      background-color: #E8F0FE;\n",
              "      border: none;\n",
              "      border-radius: 50%;\n",
              "      cursor: pointer;\n",
              "      display: none;\n",
              "      fill: #1967D2;\n",
              "      height: 32px;\n",
              "      padding: 0 0 0 0;\n",
              "      width: 32px;\n",
              "    }\n",
              "\n",
              "    .colab-df-convert:hover {\n",
              "      background-color: #E2EBFA;\n",
              "      box-shadow: 0px 1px 2px rgba(60, 64, 67, 0.3), 0px 1px 3px 1px rgba(60, 64, 67, 0.15);\n",
              "      fill: #174EA6;\n",
              "    }\n",
              "\n",
              "    [theme=dark] .colab-df-convert {\n",
              "      background-color: #3B4455;\n",
              "      fill: #D2E3FC;\n",
              "    }\n",
              "\n",
              "    [theme=dark] .colab-df-convert:hover {\n",
              "      background-color: #434B5C;\n",
              "      box-shadow: 0px 1px 3px 1px rgba(0, 0, 0, 0.15);\n",
              "      filter: drop-shadow(0px 1px 2px rgba(0, 0, 0, 0.3));\n",
              "      fill: #FFFFFF;\n",
              "    }\n",
              "  </style>\n",
              "\n",
              "      <script>\n",
              "        const buttonEl =\n",
              "          document.querySelector('#df-325e878c-3f1a-4321-85b4-83331d37803f button.colab-df-convert');\n",
              "        buttonEl.style.display =\n",
              "          google.colab.kernel.accessAllowed ? 'block' : 'none';\n",
              "\n",
              "        async function convertToInteractive(key) {\n",
              "          const element = document.querySelector('#df-325e878c-3f1a-4321-85b4-83331d37803f');\n",
              "          const dataTable =\n",
              "            await google.colab.kernel.invokeFunction('convertToInteractive',\n",
              "                                                     [key], {});\n",
              "          if (!dataTable) return;\n",
              "\n",
              "          const docLinkHtml = 'Like what you see? Visit the ' +\n",
              "            '<a target=\"_blank\" href=https://colab.research.google.com/notebooks/data_table.ipynb>data table notebook</a>'\n",
              "            + ' to learn more about interactive tables.';\n",
              "          element.innerHTML = '';\n",
              "          dataTable['output_type'] = 'display_data';\n",
              "          await google.colab.output.renderOutput(dataTable, element);\n",
              "          const docLink = document.createElement('div');\n",
              "          docLink.innerHTML = docLinkHtml;\n",
              "          element.appendChild(docLink);\n",
              "        }\n",
              "      </script>\n",
              "    </div>\n",
              "  </div>\n",
              "  "
            ]
          },
          "metadata": {},
          "execution_count": 16
        }
      ],
      "source": [
        "train_df"
      ]
    },
    {
      "cell_type": "markdown",
      "source": [
        "**Text preprocessing**"
      ],
      "metadata": {
        "id": "HUjOp1um_Szh"
      }
    },
    {
      "cell_type": "code",
      "source": [
        "train_df['text'][20]"
      ],
      "metadata": {
        "colab": {
          "base_uri": "https://localhost:8080/",
          "height": 226
        },
        "id": "YpB7TMwN_WW1",
        "outputId": "0a8dcb5b-11c8-4dd4-adfb-d5b686d8c67e"
      },
      "execution_count": null,
      "outputs": [
        {
          "output_type": "execute_result",
          "data": {
            "text/plain": [
              "'<a href=\"http://www.20min.ch/schweiz/news/story/-Viele-wollen-vermeintlich-bequeme-Buerojobs--22090775\" target=\"_blank\">In der Schweiz sind immer mehr junge Menschen arbeitslos.</a> Laut der schweizerischen Arbeitskräfteerhebung (Sake) lag die Jugendarbeitslosenquote bei den 15- bis 24-Jährigen vergangenes Jahr bei 8,6 Prozent. Zum Vergleich: 1998 lag der Anteil bei 5,8 Prozent.\\n\\n<!--[articleElementIndex:0]--> \\n\\n<!--[articleElementIndex:1]-->«Viele Jugendliche stehen nach abgeschlossener Lehre oder nach dem Studium vor der Frage, wie es nun weitergeht und ob sie allenfalls Anspruch auf Arbeitslosenentschädigung haben», sagt Natasa Radisavljevic, Kommunikationsverantwortliche bei der Unia Arbeitslosenkasse. Einige würden in die Rekrutenschule einrücken und sich fragen, wie es vor und nach der RS aussehe. Generell sei eine grosse Unwissenheit feststellbar. Das will die Unia Arbeitslosenkasse ändern, indem sie den jungen Betroffenen deren Pflichten und Rechte kommuniziert.\\n\\nHaben auch Sie nach ihrer Ausbildung keinen Job gefunden? Erzählen Sie uns Ihre Geschichte und stellen Sie uns die drängendsten Fragen. Ein Fachexperte der Unia Arbeitslosenkasse beantwortet morgen um 12 Uhr im Live-Chat alle Fragen.\\n\\n<!--[articleElementIndex:3]-->\\n\\n (dp)\\n\\n<!--[articleElementIndex:2]-->'"
            ],
            "application/vnd.google.colaboratory.intrinsic+json": {
              "type": "string"
            }
          },
          "metadata": {},
          "execution_count": 17
        }
      ]
    },
    {
      "cell_type": "code",
      "source": [
        "def is_ascii(s):\n",
        "    # removes all words consisting with non-alphabet char or numbers\n",
        "    return all(ord(c) < 123 and ord(c) > 96 for c in s)"
      ],
      "metadata": {
        "id": "nvhXSSY7DVkC"
      },
      "execution_count": null,
      "outputs": []
    },
    {
      "cell_type": "code",
      "source": [
        "hiperlink_string = ' [URL] '\n",
        "mention_string = ' '\n",
        "article_element_string = ' '"
      ],
      "metadata": {
        "id": "50SGfdHwDidF"
      },
      "execution_count": null,
      "outputs": []
    },
    {
      "cell_type": "code",
      "source": [
        "stemmer = SnowballStemmer(\"german\")\n",
        "stop_words = set(stopwords.words(\"german\"))"
      ],
      "metadata": {
        "id": "foVpkgOebxPU"
      },
      "execution_count": null,
      "outputs": []
    },
    {
      "cell_type": "code",
      "source": [
        "def preprocess_data(df):\n",
        "\n",
        "  df['tokens'] = \" \"\n",
        "  \n",
        "  for i in range(0,len(df)):\n",
        "    \n",
        "    # remove html elements\n",
        "    text = df.at[i,'text'].lower()\n",
        "    text = re.sub(r'\\n', ' ', text)\n",
        "    text = re.sub(r'</blockquote>|<blockquote class=\"[^\\s\\n\\r]+\" lang=\"de\">', ' ', text)\n",
        "    text = re.sub(r'<!--\\[articleElementIndex:[0-9]+\\]-->', article_element_string, text)\n",
        "    text = re.sub(r'<a href=\"https?://[^\\s\\n\\r]+\">\\@?\\#?(.*?)</a>', hiperlink_string, text)\n",
        "    text = re.sub(r'#', ' ', text)\n",
        "    text = re.sub(r\"@\\w+\", mention_string, text) \n",
        "    text = re.sub(r'<script async=\"async\" src=\"https?://[^\\s\\n\\r]+\" charset=\"utf-8\"></script>', ' ', text)\n",
        "    text = re.sub(r\"<[^>]+>\", ' ', text)\n",
        "\n",
        "    # tokenization\n",
        "    df.at[i,'tokens'] = word_tokenize(text)\n",
        "\n",
        "    # remove unvalid tokens\n",
        "    tokens_clean = []\n",
        "    for word in df.at[i,'tokens']: \n",
        "      if (word not in stop_words and word not in string.punctuation and is_ascii(word)):\n",
        "        tokens_clean.append(stemmer.stem(word)) \n",
        "      if len(tokens_clean) > 0:\n",
        "        df.at[i,'tokens'] = tokens_clean\n",
        "      else:\n",
        "        df.at[i,'tokens'] = ''\n",
        "\n",
        "  return df"
      ],
      "metadata": {
        "id": "dIVjN1CiD-fk"
      },
      "execution_count": null,
      "outputs": []
    },
    {
      "cell_type": "code",
      "source": [
        "train_df = preprocess_data(train_df)"
      ],
      "metadata": {
        "id": "0OGwDNGPcPha"
      },
      "execution_count": null,
      "outputs": []
    },
    {
      "cell_type": "code",
      "source": [
        "test_df = preprocess_data(test_df)"
      ],
      "metadata": {
        "id": "T2G0SWP1xxUG"
      },
      "execution_count": null,
      "outputs": []
    },
    {
      "cell_type": "code",
      "source": [
        "validation_df = preprocess_data(validation_df)"
      ],
      "metadata": {
        "id": "B_1ah2xKxxxK"
      },
      "execution_count": null,
      "outputs": []
    },
    {
      "cell_type": "code",
      "source": [
        "train_df"
      ],
      "metadata": {
        "id": "7sb_l1NSgb4-",
        "colab": {
          "base_uri": "https://localhost:8080/",
          "height": 589
        },
        "outputId": "d43b705e-65ae-484a-9aa0-bf664b1def5d"
      },
      "execution_count": null,
      "outputs": [
        {
          "output_type": "execute_result",
          "data": {
            "text/plain": [
              "                                                     text  \\\n",
              "0       Des milliers de Philippins fuyaient dimanche l...   \n",
              "1       Il n'a fallu que 66 minutes à Roger Federer (A...   \n",
              "2       Die UN-Menschenrechts-Charta sowie die meisten...   \n",
              "3       Le plan de restructuration de Lundbeck, annonc...   \n",
              "4       Le Sacré-Coeur à Plainpalais, Sainte-Pétronill...   \n",
              "...                                                   ...   \n",
              "129058  Geoge Bush stammt nicht aus Texas. Präsident d...   \n",
              "129059  Die US-Schauspielerin Joan Leslie, die mit Sta...   \n",
              "129060  Environ 1100 migrants ont été secourus dans le...   \n",
              "129061  Le taux pivot est passé à 6,3306 yuans pour un...   \n",
              "129062  Wer sagt, Gummitwist sei nur etwas für Mädchen...   \n",
              "\n",
              "                                              tags  \\\n",
              "0          [Philippines, News, Monde, Intempéries]   \n",
              "1                                               []   \n",
              "2                   [Schweiz, News, Panorama, UNK]   \n",
              "3                                               []   \n",
              "4                                               []   \n",
              "...                                            ...   \n",
              "129058      [London, News, Klamauk, Kurioses, UNK]   \n",
              "129059            [USA, News, Kunst, Kultur, Film]   \n",
              "129060                     [UNK, News, Monde, UNK]   \n",
              "129061                     [News, Chine, Economie]   \n",
              "129062  [Stadt, Zürich, Video, Entertainment, UNK]   \n",
              "\n",
              "                                                   tokens  \n",
              "0       [milli, de, philippin, fuyaient, dimanch, les,...  \n",
              "1       [il, n, a, fallu, que, minut, rog, fed, atp, p...  \n",
              "2       [sowi, meist, staat, stell, straf, darunt, sch...  \n",
              "3       [le, plan, de, restructuration, de, lundbeck, ...  \n",
              "4       [le, plainpalais, et, maintenant, hermanc, les...  \n",
              "...                                                   ...  \n",
              "129058  [geog, bush, stammt, texas, usa, nie, namensve...  \n",
              "129059  [joan, lesli, star, humphrey, bogart, gary, co...  \n",
              "129060  [environ, migrant, ont, secourus, dan, le, can...  \n",
              "129061  [le, taux, pivot, est, yuan, pour, un, dollar,...  \n",
              "129062  [wer, sagt, gummitwist, sei, gewalt, stev, zei...  \n",
              "\n",
              "[129063 rows x 3 columns]"
            ],
            "text/html": [
              "\n",
              "  <div id=\"df-22f28d8b-ce58-427d-8a6d-952231ece29c\">\n",
              "    <div class=\"colab-df-container\">\n",
              "      <div>\n",
              "<style scoped>\n",
              "    .dataframe tbody tr th:only-of-type {\n",
              "        vertical-align: middle;\n",
              "    }\n",
              "\n",
              "    .dataframe tbody tr th {\n",
              "        vertical-align: top;\n",
              "    }\n",
              "\n",
              "    .dataframe thead th {\n",
              "        text-align: right;\n",
              "    }\n",
              "</style>\n",
              "<table border=\"1\" class=\"dataframe\">\n",
              "  <thead>\n",
              "    <tr style=\"text-align: right;\">\n",
              "      <th></th>\n",
              "      <th>text</th>\n",
              "      <th>tags</th>\n",
              "      <th>tokens</th>\n",
              "    </tr>\n",
              "  </thead>\n",
              "  <tbody>\n",
              "    <tr>\n",
              "      <th>0</th>\n",
              "      <td>Des milliers de Philippins fuyaient dimanche l...</td>\n",
              "      <td>[Philippines, News, Monde, Intempéries]</td>\n",
              "      <td>[milli, de, philippin, fuyaient, dimanch, les,...</td>\n",
              "    </tr>\n",
              "    <tr>\n",
              "      <th>1</th>\n",
              "      <td>Il n'a fallu que 66 minutes à Roger Federer (A...</td>\n",
              "      <td>[]</td>\n",
              "      <td>[il, n, a, fallu, que, minut, rog, fed, atp, p...</td>\n",
              "    </tr>\n",
              "    <tr>\n",
              "      <th>2</th>\n",
              "      <td>Die UN-Menschenrechts-Charta sowie die meisten...</td>\n",
              "      <td>[Schweiz, News, Panorama, UNK]</td>\n",
              "      <td>[sowi, meist, staat, stell, straf, darunt, sch...</td>\n",
              "    </tr>\n",
              "    <tr>\n",
              "      <th>3</th>\n",
              "      <td>Le plan de restructuration de Lundbeck, annonc...</td>\n",
              "      <td>[]</td>\n",
              "      <td>[le, plan, de, restructuration, de, lundbeck, ...</td>\n",
              "    </tr>\n",
              "    <tr>\n",
              "      <th>4</th>\n",
              "      <td>Le Sacré-Coeur à Plainpalais, Sainte-Pétronill...</td>\n",
              "      <td>[]</td>\n",
              "      <td>[le, plainpalais, et, maintenant, hermanc, les...</td>\n",
              "    </tr>\n",
              "    <tr>\n",
              "      <th>...</th>\n",
              "      <td>...</td>\n",
              "      <td>...</td>\n",
              "      <td>...</td>\n",
              "    </tr>\n",
              "    <tr>\n",
              "      <th>129058</th>\n",
              "      <td>Geoge Bush stammt nicht aus Texas. Präsident d...</td>\n",
              "      <td>[London, News, Klamauk, Kurioses, UNK]</td>\n",
              "      <td>[geog, bush, stammt, texas, usa, nie, namensve...</td>\n",
              "    </tr>\n",
              "    <tr>\n",
              "      <th>129059</th>\n",
              "      <td>Die US-Schauspielerin Joan Leslie, die mit Sta...</td>\n",
              "      <td>[USA, News, Kunst, Kultur, Film]</td>\n",
              "      <td>[joan, lesli, star, humphrey, bogart, gary, co...</td>\n",
              "    </tr>\n",
              "    <tr>\n",
              "      <th>129060</th>\n",
              "      <td>Environ 1100 migrants ont été secourus dans le...</td>\n",
              "      <td>[UNK, News, Monde, UNK]</td>\n",
              "      <td>[environ, migrant, ont, secourus, dan, le, can...</td>\n",
              "    </tr>\n",
              "    <tr>\n",
              "      <th>129061</th>\n",
              "      <td>Le taux pivot est passé à 6,3306 yuans pour un...</td>\n",
              "      <td>[News, Chine, Economie]</td>\n",
              "      <td>[le, taux, pivot, est, yuan, pour, un, dollar,...</td>\n",
              "    </tr>\n",
              "    <tr>\n",
              "      <th>129062</th>\n",
              "      <td>Wer sagt, Gummitwist sei nur etwas für Mädchen...</td>\n",
              "      <td>[Stadt, Zürich, Video, Entertainment, UNK]</td>\n",
              "      <td>[wer, sagt, gummitwist, sei, gewalt, stev, zei...</td>\n",
              "    </tr>\n",
              "  </tbody>\n",
              "</table>\n",
              "<p>129063 rows × 3 columns</p>\n",
              "</div>\n",
              "      <button class=\"colab-df-convert\" onclick=\"convertToInteractive('df-22f28d8b-ce58-427d-8a6d-952231ece29c')\"\n",
              "              title=\"Convert this dataframe to an interactive table.\"\n",
              "              style=\"display:none;\">\n",
              "        \n",
              "  <svg xmlns=\"http://www.w3.org/2000/svg\" height=\"24px\"viewBox=\"0 0 24 24\"\n",
              "       width=\"24px\">\n",
              "    <path d=\"M0 0h24v24H0V0z\" fill=\"none\"/>\n",
              "    <path d=\"M18.56 5.44l.94 2.06.94-2.06 2.06-.94-2.06-.94-.94-2.06-.94 2.06-2.06.94zm-11 1L8.5 8.5l.94-2.06 2.06-.94-2.06-.94L8.5 2.5l-.94 2.06-2.06.94zm10 10l.94 2.06.94-2.06 2.06-.94-2.06-.94-.94-2.06-.94 2.06-2.06.94z\"/><path d=\"M17.41 7.96l-1.37-1.37c-.4-.4-.92-.59-1.43-.59-.52 0-1.04.2-1.43.59L10.3 9.45l-7.72 7.72c-.78.78-.78 2.05 0 2.83L4 21.41c.39.39.9.59 1.41.59.51 0 1.02-.2 1.41-.59l7.78-7.78 2.81-2.81c.8-.78.8-2.07 0-2.86zM5.41 20L4 18.59l7.72-7.72 1.47 1.35L5.41 20z\"/>\n",
              "  </svg>\n",
              "      </button>\n",
              "      \n",
              "  <style>\n",
              "    .colab-df-container {\n",
              "      display:flex;\n",
              "      flex-wrap:wrap;\n",
              "      gap: 12px;\n",
              "    }\n",
              "\n",
              "    .colab-df-convert {\n",
              "      background-color: #E8F0FE;\n",
              "      border: none;\n",
              "      border-radius: 50%;\n",
              "      cursor: pointer;\n",
              "      display: none;\n",
              "      fill: #1967D2;\n",
              "      height: 32px;\n",
              "      padding: 0 0 0 0;\n",
              "      width: 32px;\n",
              "    }\n",
              "\n",
              "    .colab-df-convert:hover {\n",
              "      background-color: #E2EBFA;\n",
              "      box-shadow: 0px 1px 2px rgba(60, 64, 67, 0.3), 0px 1px 3px 1px rgba(60, 64, 67, 0.15);\n",
              "      fill: #174EA6;\n",
              "    }\n",
              "\n",
              "    [theme=dark] .colab-df-convert {\n",
              "      background-color: #3B4455;\n",
              "      fill: #D2E3FC;\n",
              "    }\n",
              "\n",
              "    [theme=dark] .colab-df-convert:hover {\n",
              "      background-color: #434B5C;\n",
              "      box-shadow: 0px 1px 3px 1px rgba(0, 0, 0, 0.15);\n",
              "      filter: drop-shadow(0px 1px 2px rgba(0, 0, 0, 0.3));\n",
              "      fill: #FFFFFF;\n",
              "    }\n",
              "  </style>\n",
              "\n",
              "      <script>\n",
              "        const buttonEl =\n",
              "          document.querySelector('#df-22f28d8b-ce58-427d-8a6d-952231ece29c button.colab-df-convert');\n",
              "        buttonEl.style.display =\n",
              "          google.colab.kernel.accessAllowed ? 'block' : 'none';\n",
              "\n",
              "        async function convertToInteractive(key) {\n",
              "          const element = document.querySelector('#df-22f28d8b-ce58-427d-8a6d-952231ece29c');\n",
              "          const dataTable =\n",
              "            await google.colab.kernel.invokeFunction('convertToInteractive',\n",
              "                                                     [key], {});\n",
              "          if (!dataTable) return;\n",
              "\n",
              "          const docLinkHtml = 'Like what you see? Visit the ' +\n",
              "            '<a target=\"_blank\" href=https://colab.research.google.com/notebooks/data_table.ipynb>data table notebook</a>'\n",
              "            + ' to learn more about interactive tables.';\n",
              "          element.innerHTML = '';\n",
              "          dataTable['output_type'] = 'display_data';\n",
              "          await google.colab.output.renderOutput(dataTable, element);\n",
              "          const docLink = document.createElement('div');\n",
              "          docLink.innerHTML = docLinkHtml;\n",
              "          element.appendChild(docLink);\n",
              "        }\n",
              "      </script>\n",
              "    </div>\n",
              "  </div>\n",
              "  "
            ]
          },
          "metadata": {},
          "execution_count": 25
        }
      ]
    },
    {
      "cell_type": "code",
      "source": [
        "train_df.at[20, 'text']"
      ],
      "metadata": {
        "id": "S9uIfTgYgdZc",
        "colab": {
          "base_uri": "https://localhost:8080/",
          "height": 174
        },
        "outputId": "5b8b8d8b-65a6-4ee5-d8f9-72f9282bb470"
      },
      "execution_count": null,
      "outputs": [
        {
          "output_type": "execute_result",
          "data": {
            "text/plain": [
              "'<a href=\"http://www.20min.ch/schweiz/news/story/-Viele-wollen-vermeintlich-bequeme-Buerojobs--22090775\" target=\"_blank\">In der Schweiz sind immer mehr junge Menschen arbeitslos.</a> Laut der schweizerischen Arbeitskräfteerhebung (Sake) lag die Jugendarbeitslosenquote bei den 15- bis 24-Jährigen vergangenes Jahr bei 8,6 Prozent. Zum Vergleich: 1998 lag der Anteil bei 5,8 Prozent.\\n\\n<!--[articleElementIndex:0]--> \\n\\n<!--[articleElementIndex:1]-->«Viele Jugendliche stehen nach abgeschlossener Lehre oder nach dem Studium vor der Frage, wie es nun weitergeht und ob sie allenfalls Anspruch auf Arbeitslosenentschädigung haben», sagt Natasa Radisavljevic, Kommunikationsverantwortliche bei der Unia Arbeitslosenkasse. Einige würden in die Rekrutenschule einrücken und sich fragen, wie es vor und nach der RS aussehe. Generell sei eine grosse Unwissenheit feststellbar. Das will die Unia Arbeitslosenkasse ändern, indem sie den jungen Betroffenen deren Pflichten und Rechte kommuniziert.\\n\\nHaben auch Sie nach ihrer Ausbildung keinen Job gefunden? Erzählen Sie uns Ihre Geschichte und stellen Sie uns die drängendsten Fragen. Ein Fachexperte der Unia Arbeitslosenkasse beantwortet morgen um 12 Uhr im Live-Chat alle Fragen.\\n\\n<!--[articleElementIndex:3]-->\\n\\n (dp)\\n\\n<!--[articleElementIndex:2]-->'"
            ],
            "application/vnd.google.colaboratory.intrinsic+json": {
              "type": "string"
            }
          },
          "metadata": {},
          "execution_count": 26
        }
      ]
    },
    {
      "cell_type": "code",
      "source": [
        "train_df.at[20, 'tokens']"
      ],
      "metadata": {
        "id": "4mco4MlXgi73",
        "colab": {
          "base_uri": "https://localhost:8080/"
        },
        "outputId": "2bc34724-27e0-4ffb-a6e4-12d137018eea"
      },
      "execution_count": null,
      "outputs": [
        {
          "output_type": "execute_result",
          "data": {
            "text/plain": [
              "['schweiz',\n",
              " 'imm',\n",
              " 'mehr',\n",
              " 'jung',\n",
              " 'mensch',\n",
              " 'arbeitslos',\n",
              " 'laut',\n",
              " 'schweizer',\n",
              " 'sak',\n",
              " 'lag',\n",
              " 'jugendarbeitslosenquot',\n",
              " 'vergang',\n",
              " 'jahr',\n",
              " 'prozent',\n",
              " 'vergleich',\n",
              " 'lag',\n",
              " 'anteil',\n",
              " 'prozent',\n",
              " 'viel',\n",
              " 'jugend',\n",
              " 'steh',\n",
              " 'abgeschloss',\n",
              " 'lehr',\n",
              " 'studium',\n",
              " 'frag',\n",
              " 'weitergeht',\n",
              " 'allenfall',\n",
              " 'anspruch',\n",
              " 'sagt',\n",
              " 'natasa',\n",
              " 'radisavljevic',\n",
              " 'kommunikationsverantwort',\n",
              " 'unia',\n",
              " 'arbeitslosenkass',\n",
              " 'rekrutenschul',\n",
              " 'frag',\n",
              " 'rs',\n",
              " 'ausseh',\n",
              " 'generell',\n",
              " 'sei',\n",
              " 'gross',\n",
              " 'unwiss',\n",
              " 'feststellbar',\n",
              " 'unia',\n",
              " 'arbeitslosenkass',\n",
              " 'jung',\n",
              " 'betroff',\n",
              " 'der',\n",
              " 'pflicht',\n",
              " 'recht',\n",
              " 'kommuniziert',\n",
              " 'ausbild',\n",
              " 'job',\n",
              " 'gefund',\n",
              " 'geschicht',\n",
              " 'stell',\n",
              " 'frag',\n",
              " 'fachexpert',\n",
              " 'unia',\n",
              " 'arbeitslosenkass',\n",
              " 'beantwortet',\n",
              " 'morg',\n",
              " 'uhr',\n",
              " 'frag',\n",
              " 'dp']"
            ]
          },
          "metadata": {},
          "execution_count": 27
        }
      ]
    },
    {
      "cell_type": "markdown",
      "source": [
        "**One-hot encode labels**"
      ],
      "metadata": {
        "id": "0DoVo7z8_I6A"
      }
    },
    {
      "cell_type": "code",
      "execution_count": null,
      "metadata": {
        "id": "2GB8nfdEx6Cb"
      },
      "outputs": [],
      "source": [
        "tags = []\n",
        "for i in range(0, len(train_df)):\n",
        "  tags += [tag for tag in train_df.at[i, 'tags']]\n",
        "\n",
        "tags = list(set(tags))\n",
        "\n",
        "tags = tf.ragged.constant(tags)\n",
        "lookup = tf.keras.layers.StringLookup(output_mode=\"multi_hot\")\n",
        "lookup.adapt(tags)\n",
        "vocab = lookup.get_vocabulary()"
      ]
    },
    {
      "cell_type": "code",
      "execution_count": null,
      "metadata": {
        "id": "ec4rJtt3uZs-"
      },
      "outputs": [],
      "source": [
        "def invert_multi_hot(encoded_labels):\n",
        "    \"\"\"Reverse a single multi-hot encoded label to a tuple of vocab terms.\"\"\"\n",
        "    hot_indices = np.argwhere(encoded_labels == 1.0)[..., 0]\n",
        "    return np.take(vocab, hot_indices)"
      ]
    },
    {
      "cell_type": "code",
      "source": [
        "sample_label = train_df[\"tags\"].iloc[20]\n",
        "print(f\"Original label: {sample_label}\")\n",
        "\n",
        "label_binarized = lookup(sample_label)\n",
        "print(f\"Label-binarized representation: {label_binarized}\")"
      ],
      "metadata": {
        "id": "ZCkQFe2B6rMQ",
        "colab": {
          "base_uri": "https://localhost:8080/"
        },
        "outputId": "134fa88f-a80e-4768-fdc9-be30dbc877e6"
      },
      "execution_count": null,
      "outputs": [
        {
          "output_type": "stream",
          "name": "stdout",
          "text": [
            "Original label: ['Schweiz', 'Leser', 'Aufruf', 'Arbeit', 'Désirée', 'Pomper']\n",
            "Label-binarized representation: [0. 0. 0. ... 0. 0. 0.]\n"
          ]
        }
      ]
    },
    {
      "cell_type": "code",
      "source": [
        "batch_size = 128\n",
        "\n",
        "def make_dataset(dataframe, X, is_train=True):\n",
        "    labels = tf.ragged.constant(dataframe[\"tags\"].values)\n",
        "    label_binarized = lookup(labels).numpy()\n",
        "    dataset = tf.data.Dataset.from_tensor_slices((X, label_binarized))\n",
        "    dataset = dataset.shuffle(batch_size * 10) if is_train else dataset\n",
        "    return dataset.batch(batch_size)"
      ],
      "metadata": {
        "id": "JrpWfcbPuqT3"
      },
      "execution_count": null,
      "outputs": []
    },
    {
      "cell_type": "markdown",
      "source": [
        "**Vectorization**"
      ],
      "metadata": {
        "id": "DKQW3PNf7ztQ"
      }
    },
    {
      "cell_type": "code",
      "source": [
        "max_seqlen = 387\n",
        "batch_size = 128\n",
        "padding_token = \"<pad>\""
      ],
      "metadata": {
        "id": "c0xHBa398XwD"
      },
      "execution_count": null,
      "outputs": []
    },
    {
      "cell_type": "code",
      "source": [
        "def parse_data(data):\n",
        "\n",
        "  sentence = []\n",
        "  vocabulary = set()\n",
        "\n",
        "  for i in range(0,len(data)):\n",
        "    list_of_words = data.iloc[i]['tokens']\n",
        "    sentence.append(list_of_words)\n",
        "    vocabulary = vocabulary.union(set(list_of_words))\n",
        "\n",
        "  return sentence, vocabulary\n",
        "\n",
        "def fit_tokenizer(sentences):\n",
        "    \"\"\"\n",
        "    Instantiates the Tokenizer class\n",
        "    Args:\n",
        "        sentences (list): lower-cased sentences without stopwords\n",
        "    Returns:\n",
        "        tokenizer (object): an instance of the Tokenizer class containing the word-index dictionary\n",
        "    \"\"\"\n",
        "    tokenizer = Tokenizer(oov_token = '', num_words=len(vocabulary))\n",
        "    tokenizer.fit_on_texts(sentences)\n",
        "\n",
        "    return tokenizer\n",
        "\n",
        "def get_padded_sequences(tokenizer, sentences):\n",
        "    \"\"\"\n",
        "    Generates an array of token sequences and pads them to the same length\n",
        "    Args:\n",
        "        tokenizer (object): Tokenizer instance containing the word-index dictionary\n",
        "        sentences (list of string): list of sentences to tokenize and pad\n",
        "    Returns:\n",
        "        padded_sequences (array of int): tokenized sentences padded to the same length\n",
        "    \"\"\"\n",
        "    \n",
        "    sequences = tokenizer.texts_to_sequences(sentences)\n",
        "    padded_sequences = pad_sequences(sequences, padding = 'post', maxlen=max_seqlen)\n",
        "    \n",
        "    return padded_sequences  "
      ],
      "metadata": {
        "id": "6zPNhQyfBldP"
      },
      "execution_count": null,
      "outputs": []
    },
    {
      "cell_type": "code",
      "source": [
        "sentence_train, vocabulary = parse_data(train_df)\n",
        "sentence_test,_ = parse_data(test_df)\n",
        "sentence_validation,_ = parse_data(validation_df)\n",
        "\n",
        "tokenizer = fit_tokenizer(sentence_train)\n",
        "word_index = tokenizer.word_index"
      ],
      "metadata": {
        "id": "oZm96NmIBtNr"
      },
      "execution_count": null,
      "outputs": []
    },
    {
      "cell_type": "code",
      "source": [
        "padded_sequence_train = get_padded_sequences(tokenizer, sentence_train)\n",
        "padded_sequence_test = get_padded_sequences(tokenizer, sentence_test)\n",
        "padded_sequence_validation = get_padded_sequences(tokenizer, sentence_validation)"
      ],
      "metadata": {
        "id": "YrgIQmDYDNww"
      },
      "execution_count": null,
      "outputs": []
    },
    {
      "cell_type": "code",
      "source": [
        "padded_sequence_train[20]"
      ],
      "metadata": {
        "id": "-kdiqm4FHc3i",
        "colab": {
          "base_uri": "https://localhost:8080/"
        },
        "outputId": "5dbed2bc-a8a5-4671-94d1-0580337c1508"
      },
      "execution_count": null,
      "outputs": [
        {
          "output_type": "execute_result",
          "data": {
            "text/plain": [
              "array([    45,    106,     43,    232,    123,   3926,    103,   1677,\n",
              "        40462,    483,  77168,    248,     39,     92,   1059,    483,\n",
              "         2512,     92,    101,    785,    379,   2867,   1912,   5924,\n",
              "          322,   9760,   4698,   3750,     36, 130141, 171883,  38343,\n",
              "         4457,  49336,  27666,    322,  17369,   2853,   3106,     46,\n",
              "           96,  20613,  33417,   4457,  49336,    232,    527,    787,\n",
              "         4187,    576,   7721,   2803,   1244,    955,    951,    462,\n",
              "          322,  84580,   4457,  49336,   6248,   1126,    214,    322,\n",
              "        51397,      0,      0,      0,      0,      0,      0,      0,\n",
              "            0,      0,      0,      0,      0,      0,      0,      0,\n",
              "            0,      0,      0,      0,      0,      0,      0,      0,\n",
              "            0,      0,      0,      0,      0,      0,      0,      0,\n",
              "            0,      0,      0,      0,      0,      0,      0,      0,\n",
              "            0,      0,      0,      0,      0,      0,      0,      0,\n",
              "            0,      0,      0,      0,      0,      0,      0,      0,\n",
              "            0,      0,      0,      0,      0,      0,      0,      0,\n",
              "            0,      0,      0,      0,      0,      0,      0,      0,\n",
              "            0,      0,      0,      0,      0,      0,      0,      0,\n",
              "            0,      0,      0,      0,      0,      0,      0,      0,\n",
              "            0,      0,      0,      0,      0,      0,      0,      0,\n",
              "            0,      0,      0,      0,      0,      0,      0,      0,\n",
              "            0,      0,      0,      0,      0,      0,      0,      0,\n",
              "            0,      0,      0,      0,      0,      0,      0,      0,\n",
              "            0,      0,      0,      0,      0,      0,      0,      0,\n",
              "            0,      0,      0,      0,      0,      0,      0,      0,\n",
              "            0,      0,      0,      0,      0,      0,      0,      0,\n",
              "            0,      0,      0,      0,      0,      0,      0,      0,\n",
              "            0,      0,      0,      0,      0,      0,      0,      0,\n",
              "            0,      0,      0,      0,      0,      0,      0,      0,\n",
              "            0,      0,      0,      0,      0,      0,      0,      0,\n",
              "            0,      0,      0,      0,      0,      0,      0,      0,\n",
              "            0,      0,      0,      0,      0,      0,      0,      0,\n",
              "            0,      0,      0,      0,      0,      0,      0,      0,\n",
              "            0,      0,      0,      0,      0,      0,      0,      0,\n",
              "            0,      0,      0,      0,      0,      0,      0,      0,\n",
              "            0,      0,      0,      0,      0,      0,      0,      0,\n",
              "            0,      0,      0,      0,      0,      0,      0,      0,\n",
              "            0,      0,      0,      0,      0,      0,      0,      0,\n",
              "            0,      0,      0,      0,      0,      0,      0,      0,\n",
              "            0,      0,      0,      0,      0,      0,      0,      0,\n",
              "            0,      0,      0,      0,      0,      0,      0,      0,\n",
              "            0,      0,      0,      0,      0,      0,      0,      0,\n",
              "            0,      0,      0,      0,      0,      0,      0,      0,\n",
              "            0,      0,      0,      0,      0,      0,      0,      0,\n",
              "            0,      0,      0,      0,      0,      0,      0,      0,\n",
              "            0,      0,      0,      0,      0,      0,      0,      0,\n",
              "            0,      0,      0,      0,      0,      0,      0,      0,\n",
              "            0,      0,      0,      0,      0,      0,      0,      0,\n",
              "            0,      0,      0], dtype=int32)"
            ]
          },
          "metadata": {},
          "execution_count": 36
        }
      ]
    },
    {
      "cell_type": "code",
      "source": [
        "train_dataset = make_dataset(train_df, padded_sequence_train, is_train=True)\n",
        "test_dataset = make_dataset(test_df,padded_sequence_test, is_train=False)\n",
        "validation_dataset = make_dataset(validation_df, padded_sequence_validation, is_train=False)"
      ],
      "metadata": {
        "id": "YyAIPT3WG9uA"
      },
      "execution_count": null,
      "outputs": []
    },
    {
      "cell_type": "markdown",
      "source": [
        "**Model**"
      ],
      "metadata": {
        "id": "tapQcgRA_Xu0"
      }
    },
    {
      "cell_type": "code",
      "source": [
        "es = EarlyStopping(monitor='val_loss', mode='min', patience=3, restore_best_weights=True)"
      ],
      "metadata": {
        "id": "cVmfN6fUrZn-"
      },
      "execution_count": null,
      "outputs": []
    },
    {
      "cell_type": "code",
      "source": [
        "# Parameters\n",
        "vocab_size = len(vocabulary)\n",
        "max_length = 387\n",
        "embedding_dim = 100\n",
        "oov_tok = \"\"\n",
        "\n",
        "def make_model():\n",
        "    model = tf.keras.Sequential(\n",
        "        [   tf.keras.layers.Embedding(vocab_size, embedding_dim, input_length=max_length),\n",
        "            tf.keras.layers.LSTM(128),\n",
        "            tf.keras.layers.Dense(512, activation=\"relu\"),\n",
        "            tf.keras.layers.Dense(256, activation=\"relu\"),\n",
        "            tf.keras.layers.Dense(lookup.vocabulary_size(), activation=\"sigmoid\"),]  \n",
        "    )\n",
        "    return model"
      ],
      "metadata": {
        "id": "libU4NOe6ysr"
      },
      "execution_count": null,
      "outputs": []
    },
    {
      "cell_type": "code",
      "source": [
        "model = make_model()\n",
        "model.compile(loss=\"binary_crossentropy\", optimizer=\"adam\", metrics=[\"categorical_accuracy\"])"
      ],
      "metadata": {
        "id": "HQ5MB1kh7hO-"
      },
      "execution_count": null,
      "outputs": []
    },
    {
      "cell_type": "code",
      "source": [
        "epochs = 20\n",
        "history = model.fit(train_dataset, validation_data=validation_dataset, epochs=epochs, callbacks=[es])\n"
      ],
      "metadata": {
        "colab": {
          "base_uri": "https://localhost:8080/"
        },
        "id": "KNX9UaYTraTA",
        "outputId": "8f63ae9e-9434-4b65-a31b-09a80d3a4990"
      },
      "execution_count": null,
      "outputs": [
        {
          "output_type": "stream",
          "name": "stdout",
          "text": [
            "Epoch 1/20\n",
            "1009/1009 [==============================] - 158s 155ms/step - loss: 0.0126 - categorical_accuracy: 0.0475 - val_loss: 0.0127 - val_categorical_accuracy: 0.0500\n",
            "Epoch 2/20\n",
            "1009/1009 [==============================] - 429s 425ms/step - loss: 0.0126 - categorical_accuracy: 0.0475 - val_loss: 0.0127 - val_categorical_accuracy: 0.0500\n",
            "Epoch 3/20\n",
            "1009/1009 [==============================] - 246s 244ms/step - loss: 0.0126 - categorical_accuracy: 0.0475 - val_loss: 0.0127 - val_categorical_accuracy: 0.0500\n",
            "Epoch 4/20\n",
            "1009/1009 [==============================] - 160s 158ms/step - loss: 0.0126 - categorical_accuracy: 0.0475 - val_loss: 0.0127 - val_categorical_accuracy: 0.0500\n",
            "Epoch 5/20\n",
            "1009/1009 [==============================] - 216s 214ms/step - loss: 0.0125 - categorical_accuracy: 0.0475 - val_loss: 0.0125 - val_categorical_accuracy: 0.0500\n",
            "Epoch 6/20\n",
            "1009/1009 [==============================] - 120s 119ms/step - loss: 0.0118 - categorical_accuracy: 0.0475 - val_loss: 0.0113 - val_categorical_accuracy: 0.0500\n",
            "Epoch 7/20\n",
            "1009/1009 [==============================] - 104s 103ms/step - loss: 0.0112 - categorical_accuracy: 0.0479 - val_loss: 0.0113 - val_categorical_accuracy: 0.0510\n",
            "Epoch 8/20\n",
            "1009/1009 [==============================] - 120s 119ms/step - loss: 0.0108 - categorical_accuracy: 0.0570 - val_loss: 0.0107 - val_categorical_accuracy: 0.0646\n",
            "Epoch 9/20\n",
            "1009/1009 [==============================] - 106s 105ms/step - loss: 0.0101 - categorical_accuracy: 0.0707 - val_loss: 0.0101 - val_categorical_accuracy: 0.0761\n",
            "Epoch 10/20\n",
            "1009/1009 [==============================] - 132s 131ms/step - loss: 0.0099 - categorical_accuracy: 0.0787 - val_loss: 0.0101 - val_categorical_accuracy: 0.0794\n",
            "Epoch 11/20\n",
            "1009/1009 [==============================] - 114s 113ms/step - loss: 0.0098 - categorical_accuracy: 0.0805 - val_loss: 0.0101 - val_categorical_accuracy: 0.0836\n",
            "Epoch 12/20\n",
            "1009/1009 [==============================] - 135s 134ms/step - loss: 0.0095 - categorical_accuracy: 0.0807 - val_loss: 0.0099 - val_categorical_accuracy: 0.0792\n",
            "Epoch 13/20\n",
            "1009/1009 [==============================] - 211s 210ms/step - loss: 0.0090 - categorical_accuracy: 0.0787 - val_loss: 0.0094 - val_categorical_accuracy: 0.0804\n",
            "Epoch 14/20\n",
            "1009/1009 [==============================] - 88s 87ms/step - loss: 0.0085 - categorical_accuracy: 0.0797 - val_loss: 0.0091 - val_categorical_accuracy: 0.0808\n",
            "Epoch 15/20\n",
            "1009/1009 [==============================] - 192s 190ms/step - loss: 0.0081 - categorical_accuracy: 0.0792 - val_loss: 0.0090 - val_categorical_accuracy: 0.0798\n",
            "Epoch 16/20\n",
            "1009/1009 [==============================] - 80s 79ms/step - loss: 0.0078 - categorical_accuracy: 0.0821 - val_loss: 0.0090 - val_categorical_accuracy: 0.0790\n",
            "Epoch 17/20\n",
            "1009/1009 [==============================] - 184s 182ms/step - loss: 0.0075 - categorical_accuracy: 0.0866 - val_loss: 0.0087 - val_categorical_accuracy: 0.0822\n",
            "Epoch 18/20\n",
            "1009/1009 [==============================] - 347s 344ms/step - loss: 0.0071 - categorical_accuracy: 0.0922 - val_loss: 0.0086 - val_categorical_accuracy: 0.0798\n",
            "Epoch 19/20\n",
            "1009/1009 [==============================] - 89s 89ms/step - loss: 0.0068 - categorical_accuracy: 0.0954 - val_loss: 0.0087 - val_categorical_accuracy: 0.0833\n",
            "Epoch 20/20\n",
            "1009/1009 [==============================] - 134s 133ms/step - loss: 0.0065 - categorical_accuracy: 0.0984 - val_loss: 0.0087 - val_categorical_accuracy: 0.0893\n"
          ]
        }
      ]
    },
    {
      "cell_type": "code",
      "source": [
        "model.summary()"
      ],
      "metadata": {
        "colab": {
          "base_uri": "https://localhost:8080/"
        },
        "id": "WmaNRW_FxHwI",
        "outputId": "e0f7b384-6f69-45dd-e3be-8e9e00a48618"
      },
      "execution_count": null,
      "outputs": [
        {
          "output_type": "stream",
          "name": "stdout",
          "text": [
            "Model: \"sequential\"\n",
            "_________________________________________________________________\n",
            " Layer (type)                Output Shape              Param #   \n",
            "=================================================================\n",
            " embedding (Embedding)       (None, 387, 100)          29710900  \n",
            "                                                                 \n",
            " lstm (LSTM)                 (None, 128)               117248    \n",
            "                                                                 \n",
            " dense (Dense)               (None, 512)               66048     \n",
            "                                                                 \n",
            " dense_1 (Dense)             (None, 256)               131328    \n",
            "                                                                 \n",
            " dense_2 (Dense)             (None, 1676)              430732    \n",
            "                                                                 \n",
            "=================================================================\n",
            "Total params: 30,456,256\n",
            "Trainable params: 30,456,256\n",
            "Non-trainable params: 0\n",
            "_________________________________________________________________\n"
          ]
        }
      ]
    },
    {
      "cell_type": "markdown",
      "source": [
        "**Train model metrics**"
      ],
      "metadata": {
        "id": "EDRtbQTwranu"
      }
    },
    {
      "cell_type": "code",
      "source": [
        "def plot_result(item):\n",
        "    plt.plot(history.history[item], label=item)\n",
        "    plt.plot(history.history[\"val_\" + item], label=\"val_\" + item)\n",
        "    plt.xlabel(\"Epochs\")\n",
        "    plt.ylabel(item)\n",
        "    plt.title(\"Train and Validation {} Over Epochs\".format(item), fontsize=14)\n",
        "    plt.legend()\n",
        "    plt.grid()\n",
        "    plt.show()\n",
        "\n",
        "\n",
        "plot_result(\"loss\")\n",
        "plot_result(\"categorical_accuracy\")"
      ],
      "metadata": {
        "colab": {
          "base_uri": "https://localhost:8080/",
          "height": 575
        },
        "id": "IwRACB-j7uxF",
        "outputId": "d8c4c8b5-4445-4f52-9f75-07e78f999916"
      },
      "execution_count": null,
      "outputs": [
        {
          "output_type": "display_data",
          "data": {
            "text/plain": [
              "<Figure size 432x288 with 1 Axes>"
            ],
            "image/png": "[encoded data removed]"
          },
          "metadata": {
            "needs_background": "light"
          }
        },
        {
          "output_type": "display_data",
          "data": {
            "text/plain": [
              "<Figure size 432x288 with 1 Axes>"
            ],
            "image/png": "[encoded data removed]"
          },
          "metadata": {
            "needs_background": "light"
          }
        }
      ]
    },
    {
      "cell_type": "markdown",
      "source": [
        "**Evaluation**"
      ],
      "metadata": {
        "id": "1PVBlV580Ea6"
      }
    },
    {
      "cell_type": "code",
      "source": [
        "_, categorical_acc = model.evaluate(test_dataset)\n",
        "print(f\"Categorical accuracy on the test set: {round(categorical_acc * 100, 2)}%.\")"
      ],
      "metadata": {
        "colab": {
          "base_uri": "https://localhost:8080/"
        },
        "id": "XqsI4JtI0R3D",
        "outputId": "88377ea8-d186-460f-e888-4471763cf599"
      },
      "execution_count": null,
      "outputs": [
        {
          "output_type": "stream",
          "name": "stdout",
          "text": [
            "127/127 [==============================] - 14s 106ms/step - loss: 0.0086 - categorical_accuracy: 0.0844\n",
            "Categorical accuracy on the test set: 8.44%.\n"
          ]
        }
      ]
    },
    {
      "cell_type": "code",
      "source": [
        "y_pred_train = model.predict(test_dataset)"
      ],
      "metadata": {
        "colab": {
          "base_uri": "https://localhost:8080/"
        },
        "id": "ClVWNlKN0dp3",
        "outputId": "33463e2f-c220-49fa-fcd7-9a3a966f870d"
      },
      "execution_count": null,
      "outputs": [
        {
          "output_type": "stream",
          "name": "stdout",
          "text": [
            "127/127 [==============================] - 9s 69ms/step\n"
          ]
        }
      ]
    },
    {
      "cell_type": "code",
      "source": [
        "ind = 10005\n",
        "print('Tags:')\n",
        "print(test_df['tags'][ind])\n",
        "print('Prediction:')\n",
        "labels = preprocessing.Binarizer(threshold=0.1).transform(y_pred_train[ind].reshape([1,len(y_pred_train[0])]))[0]\n",
        "print(invert_multi_hot(labels))\n",
        "plt.plot(y_pred_train[ind])"
      ],
      "metadata": {
        "colab": {
          "base_uri": "https://localhost:8080/",
          "height": 387
        },
        "id": "Dxxy6Kq91QmR",
        "outputId": "f67baf87-5bab-46cd-99ac-c9d68132ee6b"
      },
      "execution_count": null,
      "outputs": [
        {
          "output_type": "stream",
          "name": "stdout",
          "text": [
            "Tags:\n",
            "['Deutschland', 'Reaktion', 'Sport', 'Fussball', 'Bundesliga', 'UNK', 'UNK']\n",
            "Prediction:\n",
            "['UNK' 'Sport' 'News' 'München' 'League' 'Fussball' 'FC' 'Europa'\n",
            " 'England' 'Dortmund' 'Deutschland' 'Champions' 'Bundesliga' 'Borussia'\n",
            " 'Bayern']\n"
          ]
        },
        {
          "output_type": "execute_result",
          "data": {
            "text/plain": [
              "[<matplotlib.lines.Line2D at 0x7f20c4740390>]"
            ]
          },
          "metadata": {},
          "execution_count": 59
        },
        {
          "output_type": "display_data",
          "data": {
            "text/plain": [
              "<Figure size 432x288 with 1 Axes>"
            ],
            "image/png": "[encoded data removed]"
          },
          "metadata": {
            "needs_background": "light"
          }
        }
      ]
    },
    {
      "cell_type": "code",
      "source": [
        "test_df.at[ind, 'text']"
      ],
      "metadata": {
        "colab": {
          "base_uri": "https://localhost:8080/",
          "height": 174
        },
        "id": "M7qNW9UNDLaj",
        "outputId": "372de9b9-6aaf-423b-8e13-6c092d53f1d1"
      },
      "execution_count": null,
      "outputs": [
        {
          "output_type": "execute_result",
          "data": {
            "text/plain": [
              "'«Ich wurde zweimal geblitzt, ohne dass ich zu schnell war», sagt der 52-jährige Kurt Kleindienst aus Herisau. Er sei beide Male mit weniger als 50 Stundenkilometern am semistationären Blitzkasten an der Gossauerstrasse vorbeigefahren – trotzdem habe es geblitzt. «Ich war unmöglich zu schnell, da mein Auto neu ist und der Tacho mit dem GPS übereinstimmt», so Kleindienst. An dieser Stelle sei die Höchstgeschwindigkeit 50 Kilometer pro Stunde und er sei mit 48 und 50 km/h erfasst worden. Kleindienst vermutet, dass es etwas mit den Wetterverhältnissen zu tun hatte: «An beiden Abenden regnete es.»\\n\\n<!--[articleElementIndex:0]-->Daraufhin meldete er sich bei der Kantonspolizei Ausserrhoden. «Sie gaben an, ich müsse nicht mit einer Busse rechnen und sagten, dass sie schon mehrfach Meldungen bekommen hatten von Radarkästen die grundlos blitzten.»\\n\\n<!--[articleElementIndex:1]--><b>Kantonspolizei geht auf Fehlersuche</b>\\n\\nHanspeter Saxer, Mediensprecher der Kantonspolizei Ausserrhoden, bestätigt den Vorfall: «Solche Meldungen nehmen wir ernst und gehen den Ursachen auf den Grund». Man habe bereits einen Techniker aufgeboten, der das Gerät überprüfen wird. «Die Geräte sind unproblematisch, doch können auch bei der besten Technik Störungen vorkommen», so Saxer.\\n\\n<!--[articleElementIndex:2]--> (rar)\\n\\n<!--[articleElementIndex:3]-->'"
            ],
            "application/vnd.google.colaboratory.intrinsic+json": {
              "type": "string"
            }
          },
          "metadata": {},
          "execution_count": 58
        }
      ]
    }
  ],
  "metadata": {
    "accelerator": "GPU",
    "colab": {
      "provenance": []
    },
    "gpuClass": "standard",
    "kernelspec": {
      "display_name": "Python 3",
      "name": "python3"
    },
    "language_info": {
      "name": "python"
    }
  },
  "nbformat": 4,
  "nbformat_minor": 0
}